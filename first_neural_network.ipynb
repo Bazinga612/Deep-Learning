{
 "cells": [
  {
   "cell_type": "code",
   "execution_count": 11,
   "metadata": {
    "collapsed": true
   },
   "outputs": [],
   "source": [
    "import tensorflow as tf\n",
    "from tensorflow.examples.tutorials.mnist import input_data"
   ]
  },
  {
   "cell_type": "code",
   "execution_count": 12,
   "metadata": {
    "collapsed": false
   },
   "outputs": [
    {
     "name": "stdout",
     "output_type": "stream",
     "text": [
      "Extracting /tmp/data\\train-images-idx3-ubyte.gz\n",
      "Extracting /tmp/data\\train-labels-idx1-ubyte.gz\n",
      "Extracting /tmp/data\\t10k-images-idx3-ubyte.gz\n",
      "Extracting /tmp/data\\t10k-labels-idx1-ubyte.gz\n"
     ]
    }
   ],
   "source": [
    "mnist=input_data.read_data_sets(\"/tmp/data\",one_hot=True)"
   ]
  },
  {
   "cell_type": "code",
   "execution_count": 23,
   "metadata": {
    "collapsed": true
   },
   "outputs": [],
   "source": [
    "n_nodes_h1=500\n",
    "n_nodes_h2=500\n",
    "n_nodes_h3=500\n",
    "n_classes=10\n",
    "batch_size=100\n",
    "x=tf.placeholder('float',[None,784])\n",
    "y=tf.placeholder('float')\n",
    "def neural_network_model(data):\n",
    "    hidden1_layer={'weights':tf.Variable(tf.random_normal([784,n_nodes_h1])),'bias':tf.random_normal([n_nodes_h1])}\n",
    "    hidden2_layer={'weights':tf.Variable(tf.random_normal([n_nodes_h1,n_nodes_h2])),'bias':tf.random_normal([n_nodes_h2])}\n",
    "    hidden3_layer={'weights':tf.Variable(tf.random_normal([n_nodes_h2,n_nodes_h3])),'bias':tf.random_normal([n_nodes_h3])}\n",
    "    output_layer={'weights':tf.Variable(tf.random_normal([n_nodes_h3,n_classes])),'bias':tf.random_normal([n_classes])}\n",
    "    \n",
    "    l1=tf.add(tf.matmul(data,hidden1_layer['weights']),hidden1_layer['bias'])\n",
    "    l1=tf.nn.relu(l1)\n",
    "    \n",
    "    l2=tf.add(tf.matmul(l1,hidden2_layer['weights']),hidden2_layer['bias'])\n",
    "    l2=tf.nn.relu(l2)\n",
    "    \n",
    "    l3=tf.add(tf.matmul(l2,hidden3_layer['weights']),hidden3_layer['bias'])\n",
    "    l3=tf.nn.relu(l3)\n",
    "    \n",
    "    output=tf.add(tf.matmul(l3,output_layer['weights']),output_layer['bias'])\n",
    "    return output"
   ]
  },
  {
   "cell_type": "code",
   "execution_count": 30,
   "metadata": {
    "collapsed": false
   },
   "outputs": [
    {
     "name": "stdout",
     "output_type": "stream",
     "text": [
      "Epoch 0 10 loss 1919454.03259\n",
      "Epoch 1 10 loss 457713.869728\n",
      "Epoch 2 10 loss 265975.447802\n",
      "Epoch 3 10 loss 173529.543122\n",
      "Epoch 4 10 loss 118094.487707\n",
      "Epoch 5 10 loss 83578.4800869\n",
      "Epoch 6 10 loss 61271.9773926\n",
      "Epoch 7 10 loss 44740.1790558\n",
      "Epoch 8 10 loss 30851.7180615\n",
      "Epoch 9 10 loss 35152.8758519\n",
      "accuracy 0.9522\n"
     ]
    }
   ],
   "source": [
    "def train_neural_network(x):\n",
    "    y=tf.placeholder('float')\n",
    "    prediction=neural_network_model(x)\n",
    "    cost=tf.reduce_mean(tf.nn.softmax_cross_entropy_with_logits(logits=prediction,labels=y))\n",
    "    optimizer=tf.train.AdamOptimizer().minimize(cost)\n",
    "    epochs=10\n",
    "    with tf.Session() as sess:\n",
    "        sess.run(tf.global_variables_initializer())\n",
    "        \n",
    "        for ep in range(epochs):\n",
    "            ep_loss=0\n",
    "            for _ in range(int(mnist.train.num_examples/batch_size)):\n",
    "            \tep_x,ep_y=mnist.train.next_batch(batch_size)\n",
    "            \t_,c=sess.run([optimizer,cost],feed_dict={x:ep_x,y:ep_y})\n",
    "            \tep_loss+=c\n",
    "            print('Epoch',ep,epochs,'loss',ep_loss)\n",
    "        correct=tf.equal(tf.argmax(prediction,1),tf.argmax(y,1))\n",
    "        accuracy=tf.reduce_mean(tf.cast(correct,'float'))\n",
    "        print('accuracy',accuracy.eval({x:mnist.test.images,y:mnist.test.labels}))\n",
    "train_neural_network(x)"
   ]
  },
  {
   "cell_type": "code",
   "execution_count": null,
   "metadata": {
    "collapsed": true
   },
   "outputs": [],
   "source": []
  }
 ],
 "metadata": {
  "kernelspec": {
   "display_name": "Python 3",
   "language": "python",
   "name": "python3"
  },
  "language_info": {
   "codemirror_mode": {
    "name": "ipython",
    "version": 3
   },
   "file_extension": ".py",
   "mimetype": "text/x-python",
   "name": "python",
   "nbconvert_exporter": "python",
   "pygments_lexer": "ipython3",
   "version": "3.6.0"
  }
 },
 "nbformat": 4,
 "nbformat_minor": 2
}
